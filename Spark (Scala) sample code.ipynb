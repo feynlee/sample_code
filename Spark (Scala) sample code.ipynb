{
 "cells": [
  {
   "cell_type": "code",
   "execution_count": 22,
   "metadata": {
    "collapsed": false
   },
   "outputs": [
    {
     "data": {
      "text/plain": [
       "java.text.SimpleDateFormat@d2ec523f"
      ]
     },
     "execution_count": 22,
     "metadata": {},
     "output_type": "execute_result"
    },
    {
     "name": "stdout",
     "output_type": "stream",
     "text": []
    },
    {
     "name": "stderr",
     "output_type": "stream",
     "text": []
    }
   ],
   "source": [
    "import scala.xml._\n",
    "import org.apache.spark.SparkContext._\n",
    "import java.text.SimpleDateFormat\n",
    "import java.io._\n",
    "\n",
    "//load data\n",
    "val lines_u = spark.textFile(\"fulldataset/allUsers/\")\n",
    "val lines_p = spark.textFile(\"fulldataset/allPosts/\")\n",
    "\n",
    "//format for parse datetime\n",
    "val DateFormat = new SimpleDateFormat(\"yyyy-MM-dd'T'HH:mm:ss.SSS\")"
   ]
  },
  {
   "cell_type": "code",
   "execution_count": 6,
   "metadata": {
    "collapsed": false
   },
   "outputs": [
    {
     "name": "stdout",
     "output_type": "stream",
     "text": [
      "0.6905169,\n",
      "0.69608223,\n",
      "0.6996254,\n",
      "0.70442957,\n",
      "0.710104,\n",
      "0.7178955,\n",
      "0.72422063,\n",
      "0.7270637,\n",
      "0.7261533,\n",
      "0.7229066,\n",
      "0.728532,\n",
      "0.73727894,\n",
      "0.7444671,\n",
      "0.7452482,\n",
      "0.741457,\n",
      "0.73444295,\n",
      "0.7349357,\n",
      "0.73950434,\n",
      "0.7463565,\n",
      "0.7475968,\n",
      "0.7360097,\n",
      "0.7158975,\n",
      "0.7017918,\n",
      "0.694689\n"
     ]
    },
    {
     "name": "stderr",
     "output_type": "stream",
     "text": []
    }
   ],
   "source": [
    "def parse_questions(row: xml.Elem) = {\n",
    "    val id = (row \\ \"@AcceptedAnswerId\").text\n",
    "    val QuestionDate = DateFormat.parse((row \\ \"@CreationDate\").text)\n",
    "    (id, QuestionDate) \n",
    "}\n",
    "\n",
    "\n",
    "def parse_answers(row: xml.Elem) = {\n",
    "    val id = (row \\ \"@Id\").text\n",
    "    val AnswerDate = DateFormat.parse((row \\ \"@CreationDate\").text)\n",
    "    (id, AnswerDate)    \n",
    "}\n",
    "\n",
    "\n",
    "//define a function that marks quick answers (answers posted within 3 hours of the question)\n",
    "def quick_answers(dQ: java.util.Date, dA: java.util.Date) = {\n",
    "    val hour = dQ.getHours()\n",
    "    val intervel = (dA.getTime() - dQ.getTime())/(3600*1000.0)\n",
    "    if (intervel < 3){\n",
    "        (hour, (1, 1))\n",
    "    }\n",
    "    else {\n",
    "        (hour, (0, 1))\n",
    "    }\n",
    "    \n",
    "}\n",
    "\n",
    "\n",
    "//posts with accepted answers, return accepted answer id  \n",
    "val question_post = lines_p.filter(x => x.contains(\"<row\")&&(x.contains(\"/>\"))&&(x.contains(\"AcceptedAnswerId\")))\n",
    "                           .map(row => scala.xml.XML.loadString(row))\n",
    "                           .map(x => parse_questions(x))\n",
    "                   \n",
    "                \n",
    "val accepted_answer_post = lines_p.filter(x => x.contains(\"<row\")&&(x.contains(\"/>\")))\n",
    "                                  .map(row => scala.xml.XML.loadString(row))\n",
    "                                  .filter(row => (row \\ \"@PostTypeId\").text==\"2\")\n",
    "                                  .map(x => parse_answers(x))\n",
    "\n",
    "//join two tables and find the quick answers\n",
    "val quick_answer_by_hour = question_post.join(accepted_answer_post)\n",
    "                              .map{case (id, (questionDate, answerDate)) \n",
    "                                   => quick_answers(questionDate, answerDate)}\n",
    "                              .reduceByKey{(x, y) => (x._1+y._1, x._2+y._2)}\n",
    "                              .map{case (hour, (quick, all)) => (hour, quick.toFloat/all.toFloat)}\n",
    "\n",
    "val res = quick_answer_by_hour.takeOrdered(24).map(_._2)\n",
    "println(res.mkString(\",\\n\"))"
   ]
  },
  {
   "cell_type": "markdown",
   "metadata": {},
   "source": [
    "# Identify verteran by first post stats"
   ]
  },
  {
   "cell_type": "code",
   "execution_count": 6,
   "metadata": {
    "collapsed": false
   },
   "outputs": [
    {
     "data": {
      "text/plain": [
       "Array(2625152, 1436002, 3149113, 2086538, 953788, 2419281, 2510662, 1198901, 192999, 144449, 4265245, 148862, 3128823, 2638485, 556039, 389298, 3391143, 994947, 3933749, 3929684, 515380, 1820547, 941397, 106761, 1480139, 407774, 3119403, 733642, 895740, 803060, 1142380, 185608, 183579, 901325, 1865619, 4054019, 3423894, 2499570, 610674, 1239551, 1356077, 3422952, 1846192, 3401141, 3831571, 1415712, 2663340, 2514575, 1066513, 2809139, 1561006, 1285717, 1214848, 569872, 4187349, 2979715, 1971196, 909651, 3568094, 260533, 1626438, 342, 2378631, 2671318, 3789327, 3917293, 1325425, 732700, 2871095, 3022232, 82829, 684514, 2226895, 1691365, 4231622, 1184481, 1913805, 693934, 1915689, 2012698, 2287402, 1419625, 4202854, 2254721, 2516604, 4183436, 1183039, 2976744, 1192459, 75793, 1231225, 4064881, 2002336, 388356, 26301, 2506097, 3538384, 1514919, 1111228, 2792257, 2934643, 316545, 31308, 4121987, 1030861, 3253827, 1430060, 267417, 948781, 526329, 4137270, 3702154, 3117374, 682485, 2847327, 1…"
      ]
     },
     "execution_count": 6,
     "metadata": {},
     "output_type": "execute_result"
    },
    {
     "name": "stderr",
     "output_type": "stream",
     "text": []
    },
    {
     "name": "stdout",
     "output_type": "stream",
     "text": []
    }
   ],
   "source": [
    "def parse_users(row: xml.Elem) = {\n",
    "    val id = (row \\ \"@Id\").text\n",
    "    val creationDate = DateFormat.parse((row \\ \"@CreationDate\").text)\n",
    "    (id, creationDate)\n",
    "}\n",
    "\n",
    "def parse_posts_simple(row: xml.Elem) = {\n",
    "    val id = (row \\ \"@OwnerUserId\").text\n",
    "    val activeDate = DateFormat.parse((row \\ \"@CreationDate\").text)\n",
    "    (id, activeDate)\n",
    "}\n",
    "\n",
    "def find_veterans(id: String, creationDate: java.util.Date, activeDate: java.util.Date)={\n",
    "    val days = (activeDate.getTime() - creationDate.getTime())/(24*3600*1000.0)\n",
    "    if (days>100 && days<150){\n",
    "        (id, true)\n",
    "    }\n",
    "    else {\n",
    "        (id, false)\n",
    "    }\n",
    "    \n",
    "}\n",
    "\n",
    "\n",
    "//Get user Id and user creation date\n",
    "val users_creation = lines_u.filter(x => x.contains(\"<row\")&&(x.contains(\"/>\")))\n",
    "                           .map(row => scala.xml.XML.loadString(row))\n",
    "                           .map(x => parse_users(x))\n",
    "\n",
    "//Get post's owneruserId and post creation date\n",
    "val posts = lines_p.filter(x => x.contains(\"<row\")&&(x.contains(\"/>\")))\n",
    "                                  .map(row => scala.xml.XML.loadString(row))\n",
    "                                  .map(x => parse_posts_simple(x))\n",
    " \n",
    "//Find the same users that have at least one post in the window of 100-150 days after the user creation date\n",
    "val veterans = users_creation.join(posts).map{case (id, (creationDate, activeDate)) \n",
    "                                              => find_veterans(id, creationDate, activeDate)}\n",
    "                                         .reduceByKey(_||_)\n",
    "                                         .filter{case (id, boolean)=> boolean}\n",
    "                                         .map{case (id, boolean) => id}.collect()\n",
    "\n",
    "                                         "
   ]
  },
  {
   "cell_type": "markdown",
   "metadata": {},
   "source": [
    "# Compare stats for verteran users and brief users"
   ]
  },
  {
   "cell_type": "code",
   "execution_count": 42,
   "metadata": {
    "collapsed": false
   },
   "outputs": [
    {
     "name": "stderr",
     "output_type": "stream",
     "text": []
    },
    {
     "name": "stdout",
     "output_type": "stream",
     "text": []
    },
    {
     "data": {
      "text/plain": [
       "Array((vet,1843.8676,2.2595208,0.8671652,1.8427472), (brief,1103.6241,1.142294,0.39187327,1.506717))"
      ]
     },
     "execution_count": 42,
     "metadata": {},
     "output_type": "execute_result"
    }
   ],
   "source": [
    "import scala.util.control.NonFatal //catch all nonfatal exceptions\n",
    "\n",
    "def parse_posts_full(input: String)= {\n",
    "    val row = scala.xml.XML.loadString(input)\n",
    "    val id = (row \\ \"@OwnerUserId\").text\n",
    "    val creationDate = DateFormat.parse((row \\ \"@CreationDate\").text).getTime()\n",
    "    \n",
    "    val postType_text = (row \\ \"@PostTypeId\").text\n",
    "    \n",
    "    val postType = \n",
    "    if (postType_text==\"1\"){\n",
    "        1\n",
    "    }\n",
    "    else {\n",
    "        0\n",
    "    }\n",
    "    \n",
    "    \n",
    "    val score = \n",
    "    if (input.contains(\"Score\")){\n",
    "        try{(row \\ \"@Score\").text.toInt}\n",
    "        catch{case NonFatal(t) => 0 }\n",
    "    }\n",
    "    else {\n",
    "        0\n",
    "    }\n",
    "    \n",
    "    val views = \n",
    "    if (input.contains(\"ViewCount\")){\n",
    "        try{(row \\ \"@ViewCount\").text.toInt}\n",
    "        catch{case NonFatal(t) => 0 }\n",
    "    }\n",
    "    else {\n",
    "        0\n",
    "    }\n",
    "    \n",
    "    val answers = \n",
    "    if (input.contains(\"AnswerCount\")){\n",
    "        try{(row \\ \"@AnswerCount\").text.toInt}\n",
    "        catch{case NonFatal(t) => 0 }\n",
    "    }\n",
    "    else {\n",
    "        0\n",
    "    }\n",
    "    \n",
    "    val favs = \n",
    "    if (input.contains(\"FavoriteCount\")){\n",
    "        try{(row \\ \"@FavoriteCount\").text.toInt}\n",
    "        catch{case NonFatal(t) => 0 }\n",
    "    }\n",
    "    else {\n",
    "        0\n",
    "    }\n",
    "    \n",
    "       \n",
    "    (id, (creationDate, postType, score, views, answers, favs))\n",
    "\n",
    "}\n",
    "\n",
    "def split_users(id:String, score:Int, views:Int, answers:Int, favs:Int)={\n",
    "    if (veterans.contains(id)){\n",
    "        (\"vet\", (score, views, answers, favs, 1))\n",
    "    }\n",
    "    else {\n",
    "        (\"brief\", (score, views, answers, favs, 1))\n",
    "    }\n",
    "}\n",
    "\n",
    "\n",
    "//compare average views, scores, number of favorites, and number of answers between \"verteran users\" and \"brief unsers\"\n",
    "val first_posts_veteran = lines_p.filter(x => x.contains(\"<row\")&&(x.contains(\"/>\"))&&(x.contains(\"OwnerUserId\"))\n",
    "                                              &&(x.contains(\"PostTypeId=\\\"1\\\"\"))&&(x.contains(\"CreationDate\")))\n",
    "                                 .map(x => parse_posts_full(x))\n",
    "                                 .reduceByKey{ (x,y) => {if (x._1< y._1) x else y}}\n",
    "                                 .map{case (id, (creationDate, postType, score, views, answers, favs))\n",
    "                                      => split_users(id, score, views, answers, favs)}\n",
    "                                 .reduceByKey{(x,y)=> (x._1+y._1, x._2+y._2, x._3+y._3, x._4+y._4, x._5+y._5)}\n",
    "                                 .map{case (id, (score, views, answers, favs, counts))\n",
    "                                      => (id, views.toFloat/counts.toFloat, score.toFloat/counts.toFloat, \n",
    "                                         favs.toFloat/counts.toFloat, answers.toFloat/counts.toFloat)}\n",
    "                                 .collect\n",
    "                                  "
   ]
  },
  {
   "cell_type": "code",
   "execution_count": null,
   "metadata": {
    "collapsed": true
   },
   "outputs": [],
   "source": []
  },
  {
   "cell_type": "code",
   "execution_count": null,
   "metadata": {
    "collapsed": true
   },
   "outputs": [],
   "source": []
  }
 ],
 "metadata": {
  "kernelspec": {
   "display_name": "Spark 1.3 (Scala 2.10)",
   "language": "scala",
   "name": "spark-1.3-scala-2.10"
  },
  "language_info": {
   "codemirror_mode": "text/x-scala",
   "file_extension": "scala",
   "mimetype": "text/x-scala",
   "name": "scala"
  }
 },
 "nbformat": 4,
 "nbformat_minor": 0
}
